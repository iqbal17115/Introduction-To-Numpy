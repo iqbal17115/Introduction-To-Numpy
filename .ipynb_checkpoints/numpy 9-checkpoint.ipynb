{
 "cells": [
  {
   "cell_type": "code",
   "execution_count": 4,
   "id": "377e77b9",
   "metadata": {},
   "outputs": [],
   "source": [
    "import numpy as np"
   ]
  },
  {
   "cell_type": "code",
   "execution_count": 5,
   "id": "3057dbac",
   "metadata": {},
   "outputs": [],
   "source": [
    "ch_name=\"Indian AI Production\"\n",
    "str1=\" Learning Python Numpy\""
   ]
  },
  {
   "cell_type": "code",
   "execution_count": 6,
   "id": "4b47cb71",
   "metadata": {},
   "outputs": [
    {
     "data": {
      "text/plain": [
       "array('Indian AI Production Learning Python Numpy', dtype='<U42')"
      ]
     },
     "execution_count": 6,
     "metadata": {},
     "output_type": "execute_result"
    }
   ],
   "source": [
    "np.char.add(ch_name, str1)"
   ]
  },
  {
   "cell_type": "code",
   "execution_count": 7,
   "id": "92ab382a",
   "metadata": {},
   "outputs": [
    {
     "data": {
      "text/plain": [
       "array('indian ai production', dtype='<U20')"
      ]
     },
     "execution_count": 7,
     "metadata": {},
     "output_type": "execute_result"
    }
   ],
   "source": [
    "np.char.lower(ch_name)"
   ]
  },
  {
   "cell_type": "code",
   "execution_count": 8,
   "id": "6f27c502",
   "metadata": {},
   "outputs": [
    {
     "data": {
      "text/plain": [
       "array('INDIAN AI PRODUCTION', dtype='<U20')"
      ]
     },
     "execution_count": 8,
     "metadata": {},
     "output_type": "execute_result"
    }
   ],
   "source": [
    "np.char.upper(ch_name)"
   ]
  },
  {
   "cell_type": "code",
   "execution_count": 10,
   "id": "cd62fec8",
   "metadata": {},
   "outputs": [
    {
     "data": {
      "text/plain": [
       "array('                    Indian AI Production                    ',\n",
       "      dtype='<U60')"
      ]
     },
     "execution_count": 10,
     "metadata": {},
     "output_type": "execute_result"
    }
   ],
   "source": [
    "np.char.center(ch_name, 60)"
   ]
  },
  {
   "cell_type": "code",
   "execution_count": 11,
   "id": "780bcb89",
   "metadata": {},
   "outputs": [
    {
     "data": {
      "text/plain": [
       "array('********************Indian AI Production********************',\n",
       "      dtype='<U60')"
      ]
     },
     "execution_count": 11,
     "metadata": {},
     "output_type": "execute_result"
    }
   ],
   "source": [
    "np.char.center(ch_name, 60, fillchar=\"*\")"
   ]
  },
  {
   "cell_type": "code",
   "execution_count": 12,
   "id": "cd8780d0",
   "metadata": {},
   "outputs": [
    {
     "data": {
      "text/plain": [
       "array(list(['Indian', 'AI', 'Production']), dtype=object)"
      ]
     },
     "execution_count": 12,
     "metadata": {},
     "output_type": "execute_result"
    }
   ],
   "source": [
    "np.char.split(ch_name)"
   ]
  },
  {
   "cell_type": "code",
   "execution_count": 13,
   "id": "d92e1d3a",
   "metadata": {},
   "outputs": [
    {
     "data": {
      "text/plain": [
       "array(list(['Indian AI Production']), dtype=object)"
      ]
     },
     "execution_count": 13,
     "metadata": {},
     "output_type": "execute_result"
    }
   ],
   "source": [
    "np.char.splitlines(ch_name)"
   ]
  },
  {
   "cell_type": "code",
   "execution_count": 16,
   "id": "eca8ca8f",
   "metadata": {},
   "outputs": [],
   "source": [
    "str4=\"dmy\"\n",
    "str5=\"dmy\""
   ]
  },
  {
   "cell_type": "code",
   "execution_count": 21,
   "id": "afe61cad",
   "metadata": {},
   "outputs": [
    {
     "data": {
      "text/plain": [
       "array(['d:m:y', 'd/m/y'], dtype='<U5')"
      ]
     },
     "execution_count": 21,
     "metadata": {},
     "output_type": "execute_result"
    }
   ],
   "source": [
    "np.char.join([\":\",\"/\"], [str4,str5])"
   ]
  },
  {
   "cell_type": "code",
   "execution_count": 23,
   "id": "5de2b9fc",
   "metadata": {},
   "outputs": [
    {
     "data": {
      "text/plain": [
       "array('Indian Artificial Intiligency Production', dtype='<U40')"
      ]
     },
     "execution_count": 23,
     "metadata": {},
     "output_type": "execute_result"
    }
   ],
   "source": [
    "np.char.replace(ch_name, \"AI\", \"Artificial Intiligency\")"
   ]
  },
  {
   "cell_type": "code",
   "execution_count": 24,
   "id": "dfc41c9b",
   "metadata": {},
   "outputs": [
    {
     "data": {
      "text/plain": [
       "array(True)"
      ]
     },
     "execution_count": 24,
     "metadata": {},
     "output_type": "execute_result"
    }
   ],
   "source": [
    "np.char.equal(str4, str5)"
   ]
  },
  {
   "cell_type": "code",
   "execution_count": 25,
   "id": "a1c82f5e",
   "metadata": {},
   "outputs": [
    {
     "data": {
      "text/plain": [
       "array(1)"
      ]
     },
     "execution_count": 25,
     "metadata": {},
     "output_type": "execute_result"
    }
   ],
   "source": [
    "np.char.count(ch_name, \"i\")"
   ]
  },
  {
   "cell_type": "code",
   "execution_count": null,
   "id": "ab6bd020",
   "metadata": {},
   "outputs": [],
   "source": []
  }
 ],
 "metadata": {
  "kernelspec": {
   "display_name": "Python 3 (ipykernel)",
   "language": "python",
   "name": "python3"
  },
  "language_info": {
   "codemirror_mode": {
    "name": "ipython",
    "version": 3
   },
   "file_extension": ".py",
   "mimetype": "text/x-python",
   "name": "python",
   "nbconvert_exporter": "python",
   "pygments_lexer": "ipython3",
   "version": "3.9.7"
  }
 },
 "nbformat": 4,
 "nbformat_minor": 5
}
