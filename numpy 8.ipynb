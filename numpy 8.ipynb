{
 "cells": [
  {
   "cell_type": "code",
   "execution_count": 8,
   "id": "4bef5d4d",
   "metadata": {},
   "outputs": [],
   "source": [
    "import numpy as np\n",
    "import random"
   ]
  },
  {
   "cell_type": "code",
   "execution_count": 9,
   "id": "62af17d7",
   "metadata": {},
   "outputs": [
    {
     "data": {
      "text/plain": [
       "array([0.66834806])"
      ]
     },
     "execution_count": 9,
     "metadata": {},
     "output_type": "execute_result"
    }
   ],
   "source": [
    "np.random.random(1)"
   ]
  },
  {
   "cell_type": "code",
   "execution_count": 10,
   "id": "d1c2ab37",
   "metadata": {},
   "outputs": [
    {
     "data": {
      "text/plain": [
       "array([[0.79834984, 0.16273896, 0.74019244],\n",
       "       [0.41641393, 0.77693105, 0.81466571],\n",
       "       [0.24300781, 0.93004392, 0.03092339]])"
      ]
     },
     "execution_count": 10,
     "metadata": {},
     "output_type": "execute_result"
    }
   ],
   "source": [
    "np.random.random((3, 3))"
   ]
  },
  {
   "cell_type": "code",
   "execution_count": 12,
   "id": "9029d002",
   "metadata": {},
   "outputs": [
    {
     "data": {
      "text/plain": [
       "1"
      ]
     },
     "execution_count": 12,
     "metadata": {},
     "output_type": "execute_result"
    }
   ],
   "source": [
    "np.random.randint(1, 4)"
   ]
  },
  {
   "cell_type": "code",
   "execution_count": 13,
   "id": "f9f171be",
   "metadata": {},
   "outputs": [
    {
     "data": {
      "text/plain": [
       "array([[2, 1, 3, 2],\n",
       "       [2, 3, 2, 3],\n",
       "       [1, 1, 3, 1],\n",
       "       [2, 3, 2, 2]])"
      ]
     },
     "execution_count": 13,
     "metadata": {},
     "output_type": "execute_result"
    }
   ],
   "source": [
    "np.random.randint(1, 4, (4, 4))"
   ]
  },
  {
   "cell_type": "code",
   "execution_count": 16,
   "id": "21899530",
   "metadata": {},
   "outputs": [
    {
     "data": {
      "text/plain": [
       "array([[[2, 1, 3, 3],\n",
       "        [2, 6, 3, 2],\n",
       "        [4, 4, 6, 1],\n",
       "        [4, 3, 1, 5]],\n",
       "\n",
       "       [[3, 4, 5, 4],\n",
       "        [2, 1, 5, 4],\n",
       "        [5, 5, 2, 5],\n",
       "        [6, 1, 5, 2]]])"
      ]
     },
     "execution_count": 16,
     "metadata": {},
     "output_type": "execute_result"
    }
   ],
   "source": [
    "np.random.randint(1, 7, (2, 4, 4))"
   ]
  },
  {
   "cell_type": "code",
   "execution_count": 17,
   "id": "fb750aae",
   "metadata": {},
   "outputs": [
    {
     "data": {
      "text/plain": [
       "array([[[2, 2, 1, 1],\n",
       "        [2, 1, 2, 2],\n",
       "        [1, 2, 2, 3],\n",
       "        [1, 2, 1, 3]],\n",
       "\n",
       "       [[1, 3, 1, 1],\n",
       "        [1, 3, 1, 3],\n",
       "        [3, 2, 1, 1],\n",
       "        [3, 2, 3, 2]]])"
      ]
     },
     "execution_count": 17,
     "metadata": {},
     "output_type": "execute_result"
    }
   ],
   "source": [
    "np.random.seed(10)\n",
    "np.random.randint(1, 4, (2, 4, 4))"
   ]
  },
  {
   "cell_type": "code",
   "execution_count": 18,
   "id": "6ec188be",
   "metadata": {},
   "outputs": [
    {
     "data": {
      "text/plain": [
       "array([[[2, 2, 1, 1],\n",
       "        [2, 1, 2, 2],\n",
       "        [1, 2, 2, 3],\n",
       "        [1, 2, 1, 3]],\n",
       "\n",
       "       [[1, 3, 1, 1],\n",
       "        [1, 3, 1, 3],\n",
       "        [3, 2, 1, 1],\n",
       "        [3, 2, 3, 2]]])"
      ]
     },
     "execution_count": 18,
     "metadata": {},
     "output_type": "execute_result"
    }
   ],
   "source": [
    "np.random.seed(10)\n",
    "np.random.randint(1, 4, (2, 4, 4))"
   ]
  },
  {
   "cell_type": "code",
   "execution_count": 20,
   "id": "36967ab0",
   "metadata": {},
   "outputs": [
    {
     "data": {
      "text/plain": [
       "4294967295"
      ]
     },
     "execution_count": 20,
     "metadata": {},
     "output_type": "execute_result"
    }
   ],
   "source": [
    "2**32 -1 "
   ]
  },
  {
   "cell_type": "code",
   "execution_count": 21,
   "id": "6414a6bd",
   "metadata": {},
   "outputs": [
    {
     "data": {
      "text/plain": [
       "array([0.13145815, 0.41366737, 0.77872881])"
      ]
     },
     "execution_count": 21,
     "metadata": {},
     "output_type": "execute_result"
    }
   ],
   "source": [
    "np.random.rand(3)"
   ]
  },
  {
   "cell_type": "code",
   "execution_count": 22,
   "id": "4a4c7926",
   "metadata": {},
   "outputs": [
    {
     "data": {
      "text/plain": [
       "array([-1.25424191,  0.33157855, -0.30860049])"
      ]
     },
     "execution_count": 22,
     "metadata": {},
     "output_type": "execute_result"
    }
   ],
   "source": [
    "np.random.randn(3)"
   ]
  },
  {
   "cell_type": "code",
   "execution_count": 25,
   "id": "ea7e5d9b",
   "metadata": {},
   "outputs": [
    {
     "data": {
      "text/plain": [
       "4"
      ]
     },
     "execution_count": 25,
     "metadata": {},
     "output_type": "execute_result"
    }
   ],
   "source": [
    "x=[1,2,3,4,5]\n",
    "np.random.choice(x)"
   ]
  },
  {
   "cell_type": "code",
   "execution_count": 26,
   "id": "d120d8f7",
   "metadata": {},
   "outputs": [
    {
     "data": {
      "text/plain": [
       "5"
      ]
     },
     "execution_count": 26,
     "metadata": {},
     "output_type": "execute_result"
    }
   ],
   "source": [
    "np.random.choice(x)"
   ]
  },
  {
   "cell_type": "code",
   "execution_count": 27,
   "id": "6cadf3be",
   "metadata": {},
   "outputs": [
    {
     "data": {
      "text/plain": [
       "3"
      ]
     },
     "execution_count": 27,
     "metadata": {},
     "output_type": "execute_result"
    }
   ],
   "source": [
    "np.random.choice(x)"
   ]
  },
  {
   "cell_type": "code",
   "execution_count": 28,
   "id": "7e62c302",
   "metadata": {},
   "outputs": [
    {
     "name": "stdout",
     "output_type": "stream",
     "text": [
      "0\n",
      "1\n",
      "2\n",
      "3\n",
      "4\n",
      "5\n",
      "6\n",
      "7\n",
      "8\n",
      "9\n"
     ]
    }
   ],
   "source": [
    "for i in range(10):\n",
    "    print(i)"
   ]
  },
  {
   "cell_type": "code",
   "execution_count": 29,
   "id": "e98e07fa",
   "metadata": {},
   "outputs": [
    {
     "data": {
      "text/plain": [
       "[1, 2, 3, 4, 5]"
      ]
     },
     "execution_count": 29,
     "metadata": {},
     "output_type": "execute_result"
    }
   ],
   "source": [
    "x"
   ]
  },
  {
   "cell_type": "code",
   "execution_count": null,
   "id": "7cf90b52",
   "metadata": {},
   "outputs": [],
   "source": [
    "np.random.permutation(x)"
   ]
  }
 ],
 "metadata": {
  "kernelspec": {
   "display_name": "Python 3 (ipykernel)",
   "language": "python",
   "name": "python3"
  },
  "language_info": {
   "codemirror_mode": {
    "name": "ipython",
    "version": 3
   },
   "file_extension": ".py",
   "mimetype": "text/x-python",
   "name": "python",
   "nbconvert_exporter": "python",
   "pygments_lexer": "ipython3",
   "version": "3.9.7"
  }
 },
 "nbformat": 4,
 "nbformat_minor": 5
}
